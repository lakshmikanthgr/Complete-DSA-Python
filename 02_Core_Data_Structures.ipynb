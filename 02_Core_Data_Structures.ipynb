{
  "nbformat": 4,
  "nbformat_minor": 0,
  "metadata": {
    "colab": {
      "provenance": [],
      "authorship_tag": "ABX9TyPti4TCBVZtQKuaQNJq4iBc",
      "include_colab_link": true
    },
    "kernelspec": {
      "name": "python3",
      "display_name": "Python 3"
    },
    "language_info": {
      "name": "python"
    }
  },
  "cells": [
    {
      "cell_type": "markdown",
      "metadata": {
        "id": "view-in-github",
        "colab_type": "text"
      },
      "source": [
        "<a href=\"https://colab.research.google.com/github/lakshmikanthgr/Complete-DSA-Python/blob/main/02_Core_Data_Structures.ipynb\" target=\"_parent\"><img src=\"https://colab.research.google.com/assets/colab-badge.svg\" alt=\"Open In Colab\"/></a>"
      ]
    },
    {
      "cell_type": "markdown",
      "source": [
        "## 1. Arrays: Basic Operations\n",
        "\n",
        "Arrays are one of the fundamental data stuctures in any programming language. They store the elements in contigous memory locations, enabling efficient access and data manipulations."
      ],
      "metadata": {
        "id": "OjRhuvL3PIEa"
      }
    },
    {
      "cell_type": "markdown",
      "source": [
        "### a. Creating an Array."
      ],
      "metadata": {
        "id": "jTj-m92WYKWP"
      }
    },
    {
      "cell_type": "code",
      "source": [
        "# Normal method.\n",
        "arr = [1,241,3,5,4]\n",
        "print(f\"Normal array is {arr}\")\n",
        "\n",
        "# Using numpy.\n",
        "import numpy as np\n",
        "np_array = np.array([1,24,45,51])\n",
        "print(f\"Numpy array is {np_array}\")\n",
        "\n",
        "# Using pandas\n",
        "import pandas as pd\n",
        "pd_series = pd.Series([12,4,4131,5],index=['a','b','c','d'])\n",
        "print(f\"Pandas series is {pd_series}\")\n",
        "\n"
      ],
      "metadata": {
        "colab": {
          "base_uri": "https://localhost:8080/"
        },
        "id": "QBSfS9l3Xiip",
        "outputId": "1f905a0b-cd70-48d5-d8ed-63637525c2e0"
      },
      "execution_count": 3,
      "outputs": [
        {
          "output_type": "stream",
          "name": "stdout",
          "text": [
            "Normal array is [1, 241, 3, 5, 4]\n",
            "Numpy array is [ 1 24 45 51]\n",
            "Pandas series is a      12\n",
            "b       4\n",
            "c    4131\n",
            "d       5\n",
            "dtype: int64\n"
          ]
        }
      ]
    },
    {
      "cell_type": "markdown",
      "source": [
        "### b. Accessing and Modifying the elements."
      ],
      "metadata": {
        "id": "vqDNCZWzalax"
      }
    },
    {
      "cell_type": "code",
      "source": [
        "# Normal method\n",
        "arr = [1,24,55,4141]\n",
        "print(f\"Accessing the second element {arr[1]}\")\n",
        "print(f\"Accesing the last element {arr[-1]}\")\n",
        "\n",
        "# Modifying the element\n",
        "arr[2] = 11001\n",
        "print(f\"The array is modified. Check the 3rd element {arr}\")\n",
        "\n",
        "# Using numpy\n",
        "import numpy as np\n",
        "numpy_arr = np.array([1,33,414,45])\n",
        "print(f\"Given numpy array is {numpy_arr}\")\n",
        "numpy_arr[1]=0\n",
        "print(f\"Modified array is {numpy_arr}\")\n",
        "\n",
        "# Using pandas\n",
        "import pandas as pd\n",
        "pd_s = pd.Series([2,44,52,12],index=['a','b','c','d'])\n",
        "print(f\"Given pandas series is {pd_s}\")\n",
        "pd_s['c'] = 12313\n",
        "print(f\"Modified pandas is {pd_s}\")\n"
      ],
      "metadata": {
        "colab": {
          "base_uri": "https://localhost:8080/"
        },
        "id": "SajYf0Pda2cO",
        "outputId": "295c3604-8570-4cb6-c304-908fb2eadf68"
      },
      "execution_count": 7,
      "outputs": [
        {
          "output_type": "stream",
          "name": "stdout",
          "text": [
            "Accessing the second element 24\n",
            "Accesing the last element 4141\n",
            "The array is modified. Check the 3rd element [1, 24, 11001, 4141]\n",
            "Given numpy array is [  1  33 414  45]\n",
            "Modified array is [  1   0 414  45]\n",
            "Given pandas series is a     2\n",
            "b    44\n",
            "c    52\n",
            "d    12\n",
            "dtype: int64\n",
            "Modified pandas is a        2\n",
            "b       44\n",
            "c    12313\n",
            "d       12\n",
            "dtype: int64\n"
          ]
        }
      ]
    },
    {
      "cell_type": "markdown",
      "source": [
        "### c. Array operations:\n",
        "Like adding a new element, Deleting an element by value/index, Sorting.\n",
        "\n",
        "\n",
        "Needless to say index always stats with 0."
      ],
      "metadata": {
        "id": "wei73SJ8vPB2"
      }
    },
    {
      "cell_type": "code",
      "source": [
        "# Normal array:\n",
        "arr_n = [1,4,52,5]\n",
        "print(f\"The given array is {arr_n}\")\n",
        "\n",
        "# Appending\n",
        "arr_n.append(34)\n",
        "print(f\"Appending a new element is {arr_n}\")\n",
        "\n",
        "# Adding an element in between\n",
        "print(f\"Adding an element between the elements 4,52\")\n",
        "arr_n.insert(2,100001)\n",
        "print(f\"Updated array is {arr_n}\")\n",
        "\n",
        "# Remove an value based on value.\n",
        "arr_n.remove(52)\n",
        "print(f\"Print an array after deleting {arr_n}\")\n",
        "\n",
        "# Remove an value using index\n",
        "arr_n.pop(3)\n",
        "print(f\"Remove an item using pop {arr_n}\")\n",
        "\n",
        "# Sorting an array.\n",
        "arr_n.sort()\n",
        "print(f\"Sorted array {arr_n}\")\n"
      ],
      "metadata": {
        "colab": {
          "base_uri": "https://localhost:8080/"
        },
        "id": "m3mmJFLGvWJY",
        "outputId": "c1774d67-fed5-4e2e-8ec8-e0b11fa30931"
      },
      "execution_count": 22,
      "outputs": [
        {
          "output_type": "stream",
          "name": "stdout",
          "text": [
            "The given array is [1, 4, 52, 5]\n",
            "Appending a new element is [1, 4, 52, 5, 34]\n",
            "Adding an element between the elements 4,52\n",
            "Updated array is [1, 4, 100001, 52, 5, 34]\n",
            "Print an array after deleting [1, 4, 100001, 5, 34]\n",
            "Remove an item using pop [1, 4, 100001, 34]\n",
            "Sorted array [1, 4, 34, 100001]\n"
          ]
        }
      ]
    },
    {
      "cell_type": "code",
      "source": [
        "# Using numpy\n",
        "import numpy as np\n",
        "import random\n",
        "random.seed(2)\n",
        "arr=[random.randint(1,30) for _ in range(1,15)]\n",
        "print(f\"Given array is {arr} and its type is {type(arr)}\")\n",
        "arr_n = np.array(arr)\n",
        "print(f\"Numpy array is {arr_n} and its type is {type(arr_n)}\")\n",
        "\n",
        "#append an item 10012\n",
        "append_arr = np.append(arr_n,10012)\n",
        "print(f\"new array is {append_arr}\")\n",
        "\n",
        "indexes_to_del = [1,2,3,4]\n",
        "del_arr = np.delete(arr_n,indexes_to_del)\n",
        "\n",
        "print(f\"Elements got deleted del_arr is {del_arr}\")"
      ],
      "metadata": {
        "colab": {
          "base_uri": "https://localhost:8080/"
        },
        "id": "MjPVFoR-3KRp",
        "outputId": "71dfa1f7-1e53-41fc-e72b-a5c98762fcf4"
      },
      "execution_count": 33,
      "outputs": [
        {
          "output_type": "stream",
          "name": "stdout",
          "text": [
            "Given array is [28, 28, 2, 3, 3, 12, 27, 6, 24, 26, 22, 28, 10, 9] and its type is <class 'list'>\n",
            "Numpy array is [28 28  2  3  3 12 27  6 24 26 22 28 10  9] and its type is <class 'numpy.ndarray'>\n",
            "new array is [   28    28     2     3     3    12    27     6    24    26    22    28\n",
            "    10     9 10012]\n",
            "Elements got deleted del_arr is [28 12 27  6 24 26 22 28 10  9]\n"
          ]
        }
      ]
    }
  ]
}