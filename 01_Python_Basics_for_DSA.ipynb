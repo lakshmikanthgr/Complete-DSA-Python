{
  "nbformat": 4,
  "nbformat_minor": 0,
  "metadata": {
    "colab": {
      "provenance": [],
      "authorship_tag": "ABX9TyMZcBNm/CdM9Jvu1RfNcCwx",
      "include_colab_link": true
    },
    "kernelspec": {
      "name": "python3",
      "display_name": "Python 3"
    },
    "language_info": {
      "name": "python"
    }
  },
  "cells": [
    {
      "cell_type": "markdown",
      "metadata": {
        "id": "view-in-github",
        "colab_type": "text"
      },
      "source": [
        "<a href=\"https://colab.research.google.com/github/lakshmikanthgr/Complete-DSA-Python/blob/main/01_Python_Basics_for_DSA.ipynb\" target=\"_parent\"><img src=\"https://colab.research.google.com/assets/colab-badge.svg\" alt=\"Open In Colab\"/></a>"
      ]
    },
    {
      "cell_type": "markdown",
      "source": [
        "# Python Basics for DSA"
      ],
      "metadata": {
        "id": "rDaMziKZ3LPD"
      }
    },
    {
      "cell_type": "code",
      "source": [
        "print(\"Hello!!, Welecome to Python Basics for DSA!\")"
      ],
      "metadata": {
        "colab": {
          "base_uri": "https://localhost:8080/"
        },
        "id": "SyF-zsAA3PKo",
        "outputId": "c4f72b34-dfed-473d-8996-b414dfb58094"
      },
      "execution_count": null,
      "outputs": [
        {
          "output_type": "stream",
          "name": "stdout",
          "text": [
            "Hello!!, Welecome to Python Basics for DSA!\n"
          ]
        }
      ]
    },
    {
      "cell_type": "markdown",
      "source": [
        "# List comprehensions\n",
        "\n",
        "List compressions are concise way of creating, tranforming or filtering the list.\n",
        "\n",
        "\n",
        "1. Creating a list.\n",
        "2. Transforming a list\n",
        "3. Filterning a list\n",
        "4. Nested loop in list comprehension\n",
        "5. Flatterning 2d(nested list) to 1d list\n",
        "6. Using functions in List Comprehension"
      ],
      "metadata": {
        "id": "A6K_nF-09H9_"
      }
    },
    {
      "cell_type": "code",
      "source": [
        "# Example: Creating a basic list\n",
        "# Generating a list of squares for first n natural numbers\n",
        "squares = [x**2 for x in range(10)]\n",
        "print(squares)\n",
        "\n"
      ],
      "metadata": {
        "colab": {
          "base_uri": "https://localhost:8080/"
        },
        "id": "B8Sfn7Up_EmB",
        "outputId": "75753f5b-f37f-490d-c806-89458450e62a"
      },
      "execution_count": 79,
      "outputs": [
        {
          "output_type": "stream",
          "name": "stdout",
          "text": [
            "[0, 1, 4, 9, 16, 25, 36, 49, 64, 81]\n"
          ]
        }
      ]
    },
    {
      "cell_type": "code",
      "source": [
        "# Example: Transforming a list\n",
        "# Convert all the words in the list into titles(First letter has to be Capital)\n",
        "words = [\"hello\", \"world\", \"welcome\", \"dsa\", \"in\", \"python\"]\n",
        "titlewords = [word.title() for word in words]\n",
        "print(titlewords)\n",
        "\n"
      ],
      "metadata": {
        "colab": {
          "base_uri": "https://localhost:8080/"
        },
        "id": "qTbA75fLTS9-",
        "outputId": "6dc7c4b9-95c5-4f31-ff92-2574c6334c61"
      },
      "execution_count": 78,
      "outputs": [
        {
          "output_type": "stream",
          "name": "stdout",
          "text": [
            "['Hello', 'World', 'Welcome', 'Dsa', 'In', 'Python']\n"
          ]
        }
      ]
    },
    {
      "cell_type": "code",
      "source": [
        "# Example: Filter a list\n",
        "# Find the even number in the given range\n",
        "even_numbers = [i for i in range(10) if i%2 == 0]\n",
        "print(even_numbers)\n",
        "\n"
      ],
      "metadata": {
        "colab": {
          "base_uri": "https://localhost:8080/"
        },
        "id": "v2KOJIdPTZEl",
        "outputId": "245c6ada-eeef-444f-bd26-e71ed2cfa11e"
      },
      "execution_count": 77,
      "outputs": [
        {
          "output_type": "stream",
          "name": "stdout",
          "text": [
            "[0, 2, 4, 6, 8]\n"
          ]
        }
      ]
    },
    {
      "cell_type": "code",
      "source": [
        "# Nested loops in list comprehension\n",
        "list_a = [1,2,3]\n",
        "list_b = ['a','b','c']\n",
        "\n",
        "combination_list = [(a,b) for a in list_a for b in list_b]\n",
        "print(combination_list)\n",
        "\n"
      ],
      "metadata": {
        "colab": {
          "base_uri": "https://localhost:8080/"
        },
        "id": "vSuyTBvUTbOo",
        "outputId": "3bde7268-d055-4adc-a684-26e1f4bd90e0"
      },
      "execution_count": 76,
      "outputs": [
        {
          "output_type": "stream",
          "name": "stdout",
          "text": [
            "[(1, 'a'), (1, 'b'), (1, 'c'), (2, 'a'), (2, 'b'), (2, 'c'), (3, 'a'), (3, 'b'), (3, 'c')]\n"
          ]
        }
      ]
    },
    {
      "cell_type": "code",
      "source": [
        "#Example: Nested list: 2D to 1D conversion\n",
        "list_2d = [\n",
        "    [1,2,3],\n",
        "    [4,5,6],\n",
        "    [7,8,9],\n",
        "    [10,11,12]\n",
        "]\n",
        "\n",
        "list_1d = [item for sub_list in list_2d for item in sub_list]\n",
        "print(list_1d)\n",
        "\n",
        "#Example: Using functions in the list comprehensions\n",
        "def isprime(n):\n",
        "  for i in range(2,n):\n",
        "    if (n%i)==0:\n",
        "      return False\n",
        "  return True\n",
        "\n",
        "prime_number_bools = [isprime(x) for x in range(2,50)]\n",
        "print(prime_number_bools)\n",
        "print(len([pr for pr in prime_number_bools if pr == True]))"
      ],
      "metadata": {
        "colab": {
          "base_uri": "https://localhost:8080/"
        },
        "id": "hvN4P4i1TdTb",
        "outputId": "57589f9b-bc80-47a0-f2a2-5352dcf82631"
      },
      "execution_count": 75,
      "outputs": [
        {
          "output_type": "stream",
          "name": "stdout",
          "text": [
            "[1, 2, 3, 4, 5, 6, 7, 8, 9, 10, 11, 12]\n",
            "[True, True, False, True, False, True, False, False, False, True, False, True, False, False, False, True, False, True, False, False, False, True, False, False, False, False, False, True, False, True, False, False, False, False, False, True, False, False, False, True, False, True, False, False, False, True, False, False]\n",
            "15\n"
          ]
        }
      ]
    },
    {
      "cell_type": "markdown",
      "source": [
        "# Generators and Iterators\n",
        "\n",
        "This are the tools in python to efficiently handle the datastream ans sequences.\n",
        "They allows processing one at a time. This is very usefull while dealing with big/huge dataseets.\n",
        "\n",
        "## iterator\n",
        "Iterator is an object that allows sequential access to the sequence(Dictionaries, strings) or a collection(List, tuples, sets)\n",
        "1. __iter__() Returns the iterator object itself.\n",
        "2. __next__() Returns the next item in the sequence or raise `stopItetation` .exception\n",
        "\n",
        "## Generator\n",
        "A generator is a special type of iterator defined using a function with `yield` statement. Unlike function that returns single value at the end, Generator yields one value at a time, pause execution between values.\n",
        "\n",
        "Generators are very usefull while dealing with large amount of data."
      ],
      "metadata": {
        "id": "mU1QJOYi2rEI"
      }
    },
    {
      "cell_type": "code",
      "source": [
        "# Iterator\n",
        "\n",
        "list_normal = [1,231,31,41,4212]\n",
        "list_iterator = iter(list_normal)\n",
        "print(type(list_normal))\n",
        "print(type(list_iterator))\n",
        "\n",
        "print(next(list_iterator))\n",
        "print(next(list_iterator))\n",
        "\n",
        "# Below code raise an exception that TypeError:\n",
        "#'list' object is not an iterator\n",
        "#print(next(list_normal))\n",
        "\n",
        "\n"
      ],
      "metadata": {
        "colab": {
          "base_uri": "https://localhost:8080/"
        },
        "id": "Z08czaWB6D9n",
        "outputId": "f7175095-32e2-49fb-d042-94ac26f9c5b0"
      },
      "execution_count": 80,
      "outputs": [
        {
          "output_type": "stream",
          "name": "stdout",
          "text": [
            "<class 'list'>\n",
            "<class 'list_iterator'>\n",
            "1\n",
            "231\n"
          ]
        }
      ]
    },
    {
      "cell_type": "code",
      "source": [
        "# Generator\n",
        "\n",
        "# Example: Generator for infinite set of fibanocci\n",
        "def fibanocci():\n",
        "  a,b = 0,1\n",
        "  while True:\n",
        "    yield a\n",
        "    b,a = a+b,b\n",
        "\n",
        "fib = fibanocci()\n",
        "print(type(fib))\n",
        "print(next(fib))\n",
        "print(next(fib))\n",
        "\n",
        "for _ in range(10):\n",
        "  print(next(fib),end = \" \")\n",
        "print(\"\\n\")\n",
        "\n",
        "\n",
        "\n",
        "# File Processing with Generators\n",
        "# def read_large_file(file_path):\n",
        "#     with open(file_path, 'r') as file:\n",
        "#         for line in file:\n",
        "#             yield line.strip()\n",
        "\n",
        "# for line in read_large_file('large_file.txt'):\n",
        "#     print(line)\n",
        "# Processes one line at a time, reducing memory usage.\n"
      ],
      "metadata": {
        "colab": {
          "base_uri": "https://localhost:8080/"
        },
        "id": "t__gbrMkTq6w",
        "outputId": "7047ca11-3064-4ca1-ac39-a2dcda60bfa2"
      },
      "execution_count": 81,
      "outputs": [
        {
          "output_type": "stream",
          "name": "stdout",
          "text": [
            "<class 'generator'>\n",
            "0\n",
            "1\n",
            "1 2 3 5 8 13 21 34 55 89 \n",
            "\n"
          ]
        }
      ]
    },
    {
      "cell_type": "code",
      "source": [
        "# Example: You can make a generator as list comprehension too.\n",
        "# Here you will use () instead of []\n",
        "\n",
        "list_normal = [x**2 for x in range(2,20)]\n",
        "print(f\"Type of list_normal {type(list_normal)} and the lis is {list_normal}\")\n",
        "\n",
        "list_gen = (x**2 for x in range(2,20))\n",
        "print(f\"Type of list_gen  {type(list_gen)} and next elemt is {next(list_gen)}\")\n",
        "\n"
      ],
      "metadata": {
        "colab": {
          "base_uri": "https://localhost:8080/"
        },
        "id": "tXSsH4ZYTvK9",
        "outputId": "f2f01193-8499-479e-bb97-f6f2623826ae"
      },
      "execution_count": 82,
      "outputs": [
        {
          "output_type": "stream",
          "name": "stdout",
          "text": [
            "Type of list_normal <class 'list'> and the lis is [4, 9, 16, 25, 36, 49, 64, 81, 100, 121, 144, 169, 196, 225, 256, 289, 324, 361]\n",
            "Type of list_gen  <class 'generator'> and next elemt is 4\n"
          ]
        }
      ]
    },
    {
      "cell_type": "code",
      "source": [
        "#Example: Chaining Generator: Using one generator as a input for other.\n",
        "def double_value(nums):\n",
        "  for n in nums:\n",
        "    yield n*n\n",
        "\n",
        "nums = range(11)\n",
        "print(nums)\n",
        "for x in double_value(nums):\n",
        "  print(x,end= \" \")"
      ],
      "metadata": {
        "id": "9IMKzaHhTxzo"
      },
      "execution_count": null,
      "outputs": []
    },
    {
      "cell_type": "markdown",
      "source": [
        "# Lambda Functions\n",
        "\n",
        "Lambda functions are anonymous and single liner simple function defined using keyword `lambda`. These functions typically used when a small, throwaway function is needed for a short time."
      ],
      "metadata": {
        "id": "-h035LJQBcFW"
      }
    },
    {
      "cell_type": "code",
      "source": [
        "# Example add\n",
        "add = lambda x,y: x+y\n",
        "print(add(1131,231))\n",
        "\n",
        "# Examaple: Sorting list of tuple by second element:\n",
        "data = [(1,'B'),(2,'A'),(3,'C')]\n",
        "\n",
        "# Conventional way without using lamda function.\n",
        "# using Named function:\n",
        "\n",
        "def sort_key(item):\n",
        "  return item[1]\n",
        "sort_data_normal = sorted(data, key=sort_key)\n",
        "\n",
        "print(sort_data_normal)\n",
        "\n",
        "# By using lambda\n",
        "sort_data_lambda = sorted(data, key = lambda x:x[1])\n",
        "print(sort_data_lambda)\n",
        "\n",
        "# Example: Filtering with lamda:\n",
        "# Retun just even numbers from a list\n",
        "import random\n",
        "random.seed(2)\n",
        "random_list = []\n",
        "for i in range(50):\n",
        "  random_list.append(random.randint(1,100))\n",
        "print(random_list)\n",
        "list_even_numbers = list(filter(lambda x: x%2==0, random_list))\n",
        "print(list_even_numbers)\n"
      ],
      "metadata": {
        "colab": {
          "base_uri": "https://localhost:8080/"
        },
        "id": "U5TGAcXgCSGE",
        "outputId": "0effc3ae-d103-4e38-b7e6-2ab50a1ebe55"
      },
      "execution_count": 18,
      "outputs": [
        {
          "output_type": "stream",
          "name": "stdout",
          "text": [
            "1362\n",
            "[(2, 'A'), (1, 'B'), (3, 'C')]\n",
            "[(2, 'A'), (1, 'B'), (3, 'C')]\n",
            "[8, 12, 11, 47, 22, 95, 86, 40, 33, 78, 28, 78, 5, 75, 88, 21, 56, 82, 51, 93, 66, 48, 70, 57, 65, 35, 5, 4, 47, 60, 41, 49, 55, 68, 22, 72, 23, 31, 30, 4, 23, 42, 23, 18, 66, 66, 47, 66, 87, 72]\n",
            "[8, 12, 22, 86, 40, 78, 28, 78, 88, 56, 82, 66, 48, 70, 4, 60, 68, 22, 72, 30, 4, 42, 18, 66, 66, 66, 72]\n"
          ]
        }
      ]
    },
    {
      "cell_type": "markdown",
      "source": [
        "# Functional Programming\n",
        "\n",
        "Functional programming is a paradigm in which the computation treated as evalution of mathematical functions.\n",
        "It emphasizes immutability, first class functions and higer order functions.\n",
        "\n",
        "1. **Immutability:**  Avoid modifying the data: instead, create new data structures.\n",
        "2. **First-Class Functions:**  Functions that are treated as first class citizens and can be assigned to variables, Passed as arguments and returned from other functions.\n",
        "3. **Higher-Order Functions:** Functions that takes functions as input or returns functions as output\n",
        "\n",
        "## Common functional programming tools:\n",
        "  *map, zip, filter, reduce, zip*\n",
        "\n",
        "\n",
        "# NOTE: Dont use if you wanted to debug the logic or for complex logics and need documentations.\n"
      ],
      "metadata": {
        "id": "sx4ybw0GKWec"
      }
    },
    {
      "cell_type": "code",
      "source": [
        "numbers = [12,121,31,52,212]\n",
        "\n",
        "# Example: Map()\n",
        "# Applies a functiion to each item in iterable:\n",
        "squared = list(map(lambda x:x*x,numbers))\n",
        "print(squared)\n",
        "\n"
      ],
      "metadata": {
        "colab": {
          "base_uri": "https://localhost:8080/"
        },
        "id": "IviHJfrVNYjd",
        "outputId": "c1208abf-b233-4606-f88e-ad2971681685"
      },
      "execution_count": 83,
      "outputs": [
        {
          "output_type": "stream",
          "name": "stdout",
          "text": [
            "[144, 14641, 961, 2704, 44944]\n"
          ]
        }
      ]
    },
    {
      "cell_type": "code",
      "source": [
        "# Example: Filter()\n",
        "# Filters itens in an iterables based on the function return True or False\n",
        "filter_even = list(filter(lambda x:x%2==0,numbers))\n",
        "print(filter_even)\n",
        "\n"
      ],
      "metadata": {
        "colab": {
          "base_uri": "https://localhost:8080/"
        },
        "id": "rpIONOxiUCsw",
        "outputId": "75d98b63-bbb2-4f52-d295-91e0d5bbed7a"
      },
      "execution_count": 84,
      "outputs": [
        {
          "output_type": "stream",
          "name": "stdout",
          "text": [
            "[12, 52, 212]\n"
          ]
        }
      ]
    },
    {
      "cell_type": "code",
      "source": [
        "# Example: Reduce()\n",
        "# Reduce from functools will reduce an iterable to a single value by applying\n",
        "# function cumulatively\n",
        "from functools import reduce\n",
        "\n",
        "product_list = reduce(lambda x, y: x*y, numbers)\n",
        "print(product_list)\n",
        "\n",
        "\n"
      ],
      "metadata": {
        "colab": {
          "base_uri": "https://localhost:8080/"
        },
        "id": "ZnSX-6QyUE0D",
        "outputId": "9b9269e1-e0c2-4a64-dd63-1d47871bb975"
      },
      "execution_count": 87,
      "outputs": [
        {
          "output_type": "stream",
          "name": "stdout",
          "text": [
            "496212288\n"
          ]
        }
      ]
    },
    {
      "cell_type": "code",
      "source": [
        "# Zip()\n",
        "# Combines two or more iterables into a tuple\n",
        "\n",
        "names = [\"Laks\", \"Moni\", \"Dhanshitha\", \"S__\"]\n",
        "ages = [34,30,1, -2]\n",
        "\n",
        "combiner_list = list(zip(names, ages))\n",
        "print(combiner_list)\n",
        "\n"
      ],
      "metadata": {
        "colab": {
          "base_uri": "https://localhost:8080/"
        },
        "id": "Ot1k7U-lULVQ",
        "outputId": "5f79f7c9-fe2f-4dbd-a0e1-78f94cb5d6be"
      },
      "execution_count": 86,
      "outputs": [
        {
          "output_type": "stream",
          "name": "stdout",
          "text": [
            "[('Laks', 34), ('Moni', 30), ('Dhanshitha', 1), ('S__', -2)]\n"
          ]
        }
      ]
    },
    {
      "cell_type": "code",
      "source": [
        "# Some more examples:\n",
        "# Creating a list of squared values for even numbers:\n",
        "squared_even = list(map(lambda x: x**2, filter(lambda x: x%2 == 0,numbers)))\n",
        "print(squared_even)"
      ],
      "metadata": {
        "colab": {
          "base_uri": "https://localhost:8080/"
        },
        "id": "NECdMRNxUNNS",
        "outputId": "0576e772-7a17-4519-a324-74ee62fe67c2"
      },
      "execution_count": 85,
      "outputs": [
        {
          "output_type": "stream",
          "name": "stdout",
          "text": [
            "[144, 2704, 44944]\n"
          ]
        }
      ]
    },
    {
      "cell_type": "markdown",
      "source": [
        "# Working with NumPy Arrays for Efficiency\n",
        "\n",
        "**numpy** is a powerfull python library used for numerical computing. It provides a high performance multi-dimensional array objec called ***ndarray*** and tools to work with those arrays efficiently. **Numpy** is backbone for many scientific computing and data analysis libraries.\n",
        "\n",
        "## Why numpy for efficiency\n",
        "1. **Optimized performance:** Numpy arrays are implemented in C, this makes them faster than python list for computational work.\n",
        "2. **Memory efficient:** This consumes less memory than python lists.\n",
        "3. **Vectorized Operations:** Numpy arrays allows you to perform element wise operations without using loops. That makes the code clean and concise.\n",
        "4. **Convenience:** It provides lot of tool for data manipulations, for statistics and for all scintific computations.\n",
        "\n",
        "## Key featurs of Numpy arrays\n",
        "1. Homogenous data: All the elments in the ndarray must be same type\n",
        "2. Multi-dimentional array: Suppors 1..n dimensions.\n",
        "3. Broadcasting: Ability to perfom operations on array of different shapes.\n",
        "4. Slicing and Indexing: Advanced way of accessing and modifying the array data.\n"
      ],
      "metadata": {
        "id": "ec2z1jdwd8cj"
      }
    },
    {
      "cell_type": "code",
      "source": [
        "# Example: Create a numpy array from List:\n",
        "\n",
        "import numpy as np\n",
        "\n",
        "arr_1d = np.array([1,23,31,32])\n",
        "print(f\"1-D array is {arr_1d}\")\n",
        "\n",
        "arr_2d = np.array([[1,31,22],[3,234432,3]])\n",
        "print(f\"2-D array is {arr_2d}\")"
      ],
      "metadata": {
        "colab": {
          "base_uri": "https://localhost:8080/"
        },
        "id": "vO_WKwSKhSki",
        "outputId": "791f374d-626b-4389-e39b-8443d44ffecc"
      },
      "execution_count": 28,
      "outputs": [
        {
          "output_type": "stream",
          "name": "stdout",
          "text": [
            "1-D array is [ 1 23 31 32]\n",
            "2-D array is [[     1     31     22]\n",
            " [     3 234432      3]]\n"
          ]
        }
      ]
    },
    {
      "cell_type": "code",
      "source": [
        "# Example: Create an numpy array using built-in functions\n",
        "import numpy as np\n",
        "\n",
        "\n",
        "#help(np.zeros)\n",
        "all_zeros = np.zeros((3,5),float)\n",
        "print(f\"All zero array is {all_zeros}\")\n",
        "\n",
        "all_ones = np.ones((3,12),str)\n",
        "print(f\"All ones as string is {all_ones}\")\n",
        "\n",
        "all_random=np.arange(1,13,2)\n",
        "print(f\"All random is {all_random}\")\n"
      ],
      "metadata": {
        "colab": {
          "base_uri": "https://localhost:8080/"
        },
        "collapsed": true,
        "id": "UqTiEq8oiwEJ",
        "outputId": "9f565d10-1c4b-4347-fbcd-082bd5883d35"
      },
      "execution_count": 35,
      "outputs": [
        {
          "output_type": "stream",
          "name": "stdout",
          "text": [
            "All zero array is [[0. 0. 0. 0. 0.]\n",
            " [0. 0. 0. 0. 0.]\n",
            " [0. 0. 0. 0. 0.]]\n",
            "All ones as string is [['1' '1' '1' '1' '1' '1' '1' '1' '1' '1' '1' '1']\n",
            " ['1' '1' '1' '1' '1' '1' '1' '1' '1' '1' '1' '1']\n",
            " ['1' '1' '1' '1' '1' '1' '1' '1' '1' '1' '1' '1']]\n",
            "All random is [ 1  3  5  7  9 11]\n"
          ]
        }
      ]
    },
    {
      "cell_type": "code",
      "source": [
        "# Element wise operations:\n",
        "import numpy as np\n",
        "\n",
        "# Multiple every element in list with 2\n",
        "list_a = [12,22,31,4,12]\n",
        "\n",
        "\n",
        "#Normal approach\n",
        "list_normal = [x*2 for x in list_a]\n",
        "print(list_normal)\n",
        "\n",
        "n_arr = np.array(list_a)\n",
        "print(n_arr*2)\n"
      ],
      "metadata": {
        "colab": {
          "base_uri": "https://localhost:8080/"
        },
        "id": "0XJGtc3Yp8mC",
        "outputId": "22e77ca2-08fa-4031-b321-8752d2730c0b"
      },
      "execution_count": 37,
      "outputs": [
        {
          "output_type": "stream",
          "name": "stdout",
          "text": [
            "[24, 44, 62, 8, 24]\n",
            "[24 44 62  8 24]\n"
          ]
        }
      ]
    },
    {
      "cell_type": "code",
      "source": [
        "# Broadcasting: Operations on different shape of arrays\n",
        "# Need to spend some more tim in understanding broadcasting\n",
        "\n",
        "import numpy as np\n",
        "\n",
        "list_n = [2,24,34,23]\n",
        "\n",
        "arr_n = np.array(list_n)\n",
        "# Adding a scaler to every element\n",
        "print(arr_n+5)\n",
        "\n",
        "list_m = [[2],[311],[4]]\n",
        "arr_m = np.array(list_m)\n",
        "print(f\"Shape of arr_n is {arr_n.shape} and arr_m is {arr_m.shape}\")\n",
        "print(arr_n + arr_m)"
      ],
      "metadata": {
        "colab": {
          "base_uri": "https://localhost:8080/"
        },
        "id": "GcavLD3brSQz",
        "outputId": "3bbdd2cc-d978-4c0c-bd64-d03f90673d8b"
      },
      "execution_count": 41,
      "outputs": [
        {
          "output_type": "stream",
          "name": "stdout",
          "text": [
            "[ 7 29 39 28]\n",
            "Shape of arr_n is (4,) and arr_m is (3, 1)\n",
            "[[  4  26  36  25]\n",
            " [313 335 345 334]\n",
            " [  6  28  38  27]]\n"
          ]
        }
      ]
    },
    {
      "cell_type": "code",
      "source": [
        "import numpy as np\n",
        "\n",
        "arr_2d = np.array([[1,2,3],[4,5,6],[7,8,9],[10,11,12]])\n",
        "print(f\"Shape of given {arr_2d} is {arr_2d.shape}\")\n",
        "#index starts from 0\n",
        "print(f\"Seocnd row third element is {arr_2d[1,2]}\")\n",
        "print(f\"Second row array of arr_2d is {arr_2d[1]}\")\n",
        "print(f\"Third column array of arr_2d is {arr_2d[:,2]}\")\n",
        "print(f\"Sub array {arr_2d[1:,2:]} and its shape is {arr_2d[1:,2:].shape}\")"
      ],
      "metadata": {
        "colab": {
          "base_uri": "https://localhost:8080/"
        },
        "id": "XCkSBXBdKy02",
        "outputId": "45d3c13b-c2b9-44e7-c309-959c2ae2aad7"
      },
      "execution_count": 62,
      "outputs": [
        {
          "output_type": "stream",
          "name": "stdout",
          "text": [
            "Shape of given [[ 1  2  3]\n",
            " [ 4  5  6]\n",
            " [ 7  8  9]\n",
            " [10 11 12]] is (4, 3)\n",
            "Seocnd row third element is 6\n",
            "Second row array of arr_2d is [4 5 6]\n",
            "Third column array of arr_2d is [ 3  6  9 12]\n",
            "Sub array [[ 6]\n",
            " [ 9]\n",
            " [12]] and its shape is (3, 1)\n"
          ]
        }
      ]
    },
    {
      "cell_type": "code",
      "source": [
        "import numpy as np\n",
        "\n",
        "A = np.array([[1,2],[2,4]])\n",
        "B = np.array([[5,10],[10,5]])\n",
        "\n",
        "AB = np.dot(A,B)\n",
        "\n",
        "print(f\"Dot product is {AB}\")"
      ],
      "metadata": {
        "colab": {
          "base_uri": "https://localhost:8080/"
        },
        "id": "NYGcDj8FPI8E",
        "outputId": "1f20b968-c1a1-4e0f-dd2c-f2ff91b5d61c"
      },
      "execution_count": 66,
      "outputs": [
        {
          "output_type": "stream",
          "name": "stdout",
          "text": [
            "Dot product is [[25 20]\n",
            " [50 40]]\n"
          ]
        }
      ]
    },
    {
      "cell_type": "code",
      "source": [
        "import numpy as np\n",
        "\n",
        "# finding minimu max and mean\n",
        "\n",
        "A = np.array([1,23,41,41,41,45,6,134,3])\n",
        "print(f\"A Min is {A.min()} Max is {A.max()} and Mean is {A.mean()}\")"
      ],
      "metadata": {
        "colab": {
          "base_uri": "https://localhost:8080/"
        },
        "id": "TeSHivw9Qgnd",
        "outputId": "16d784ef-ec57-4222-b5cf-be02edf54aee"
      },
      "execution_count": 68,
      "outputs": [
        {
          "output_type": "stream",
          "name": "stdout",
          "text": [
            "A Min is 1 Max is 134 and Mean is 37.22222222222222\n"
          ]
        }
      ]
    },
    {
      "cell_type": "code",
      "source": [
        "import numpy as np\n",
        "\n",
        "# Boolean Indexing:\n",
        "A = np.array([12,31,333,41,3,45])\n",
        "B = A[A>30]\n",
        "print(B)\n",
        "\n",
        "#Reshaping tha array\n",
        "print(f\"The shape of A is {A.shape}\")\n",
        "A = A.reshape(2,3)\n",
        "print(f\"After reshape A is {A}  and its shape is {A.shape}\")"
      ],
      "metadata": {
        "colab": {
          "base_uri": "https://localhost:8080/"
        },
        "id": "lc6fVaqARK68",
        "outputId": "d5913d2a-8120-4341-940d-9c392a937c72"
      },
      "execution_count": 72,
      "outputs": [
        {
          "output_type": "stream",
          "name": "stdout",
          "text": [
            "[ 31 333  41  45]\n",
            "The shape of A is (6,)\n",
            "After reshape A is [[ 12  31 333]\n",
            " [ 41   3  45]]  and its shape is (2, 3)\n"
          ]
        }
      ]
    },
    {
      "cell_type": "code",
      "source": [],
      "metadata": {
        "id": "KbfxU6-dRNW7"
      },
      "execution_count": null,
      "outputs": []
    }
  ]
}