{
  "nbformat": 4,
  "nbformat_minor": 0,
  "metadata": {
    "colab": {
      "provenance": [],
      "authorship_tag": "ABX9TyOqTXPvzbv7Z3UyyNGCNqbc",
      "include_colab_link": true
    },
    "kernelspec": {
      "name": "python3",
      "display_name": "Python 3"
    },
    "language_info": {
      "name": "python"
    }
  },
  "cells": [
    {
      "cell_type": "markdown",
      "metadata": {
        "id": "view-in-github",
        "colab_type": "text"
      },
      "source": [
        "<a href=\"https://colab.research.google.com/github/lakshmikanthgr/Complete-DSA-Python/blob/main/01_Python_Basics_for_DSA.ipynb\" target=\"_parent\"><img src=\"https://colab.research.google.com/assets/colab-badge.svg\" alt=\"Open In Colab\"/></a>"
      ]
    },
    {
      "cell_type": "markdown",
      "source": [
        "# Python Basics for DSA"
      ],
      "metadata": {
        "id": "rDaMziKZ3LPD"
      }
    },
    {
      "cell_type": "code",
      "source": [
        "print(\"Hello!!, Welecome to Python Basics for DSA!\")"
      ],
      "metadata": {
        "colab": {
          "base_uri": "https://localhost:8080/"
        },
        "id": "SyF-zsAA3PKo",
        "outputId": "c4f72b34-dfed-473d-8996-b414dfb58094"
      },
      "execution_count": null,
      "outputs": [
        {
          "output_type": "stream",
          "name": "stdout",
          "text": [
            "Hello!!, Welecome to Python Basics for DSA!\n"
          ]
        }
      ]
    },
    {
      "cell_type": "markdown",
      "source": [
        "# List comprehensions\n",
        "\n",
        "List compressions are concise way of creating, tranforming or filtering the list.\n",
        "\n",
        "\n",
        "1. Creating a list.\n",
        "2. Transforming a list\n",
        "3. Filterning a list\n",
        "4. Nested loop in list comprehension\n",
        "5. Flatterning 2d(nested list) to 1d list\n",
        "6. Using functions in List Comprehension"
      ],
      "metadata": {
        "id": "A6K_nF-09H9_"
      }
    },
    {
      "cell_type": "code",
      "source": [
        "# Creating a basic list\n",
        "# Generating a list of squares for first n natural numbers\n",
        "squares = [x**2 for x in range(10)]\n",
        "print(squares)\n",
        "\n",
        "# Transforming a list\n",
        "# Convert all the words in the list into titles(First letter has to be Capital)\n",
        "words = [\"hello\", \"world\", \"welcome\", \"dsa\", \"in\", \"python\"]\n",
        "titlewords = [word.title() for word in words]\n",
        "print(titlewords)\n",
        "\n",
        "# Filter a list\n",
        "# Find the even number in the given range\n",
        "even_numbers = [i for i in range(10) if i%2 == 0]\n",
        "print(even_numbers)\n",
        "\n",
        "# Nested loops in list comprehension\n",
        "list_a = [1,2,3]\n",
        "list_b = ['a','b','c']\n",
        "\n",
        "combination_list = [(a,b) for a in list_a for b in list_b]\n",
        "print(combination_list)\n",
        "\n",
        "# Nested list: 2D to 1D conversion\n",
        "list_2d = [\n",
        "    [1,2,3],\n",
        "    [4,5,6],\n",
        "    [7,8,9],\n",
        "    [10,11,12]\n",
        "]\n",
        "\n",
        "list_1d = [item for sub_list in list_2d for item in sub_list]\n",
        "print(list_1d)\n",
        "\n",
        "#Using functions in the list comprehensions\n",
        "def isprime(n):\n",
        "  for i in range(2,n):\n",
        "    if (n%i)==0:\n",
        "      return False\n",
        "  return True\n",
        "\n",
        "prime_number_bools = [isprime(x) for x in range(2,1000)]\n",
        "print(prime_number_bools)\n",
        "print(len([pr for pr in prime_number_bools if pr == True]))"
      ],
      "metadata": {
        "colab": {
          "base_uri": "https://localhost:8080/"
        },
        "id": "B8Sfn7Up_EmB",
        "outputId": "cbc9436b-c042-4f40-9df4-87e0c889688b"
      },
      "execution_count": 48,
      "outputs": [
        {
          "output_type": "stream",
          "name": "stdout",
          "text": [
            "[0, 1, 4, 9, 16, 25, 36, 49, 64, 81]\n",
            "['Hello', 'World', 'Welcome', 'Dsa', 'In', 'Python']\n",
            "[0, 2, 4, 6, 8]\n",
            "[(1, 'a'), (1, 'b'), (1, 'c'), (2, 'a'), (2, 'b'), (2, 'c'), (3, 'a'), (3, 'b'), (3, 'c')]\n",
            "[1, 2, 3, 4, 5, 6, 7, 8, 9, 10, 11, 12]\n",
            "[True, True, False, True, False, True, False, False, False, True, False, True, False, False, False, True, False, True, False, False, False, True, False, False, False, False, False, True, False, True, False, False, False, False, False, True, False, False, False, True, False, True, False, False, False, True, False, False, False, False, False, True, False, False, False, False, False, True, False, True, False, False, False, False, False, True, False, False, False, True, False, True, False, False, False, False, False, True, False, False, False, True, False, False, False, False, False, True, False, False, False, False, False, False, False, True, False, False, False, True, False, True, False, False, False, True, False, True, False, False, False, True, False, False, False, False, False, False, False, False, False, False, False, False, False, True, False, False, False, True, False, False, False, False, False, True, False, True, False, False, False, False, False, False, False, False, False, True, False, True, False, False, False, False, False, True, False, False, False, False, False, True, False, False, False, True, False, False, False, False, False, True, False, False, False, False, False, True, False, True, False, False, False, False, False, False, False, False, False, True, False, True, False, False, False, True, False, True, False, False, False, False, False, False, False, False, False, False, False, True, False, False, False, False, False, False, False, False, False, False, False, True, False, False, False, True, False, True, False, False, False, True, False, False, False, False, False, True, False, True, False, False, False, False, False, False, False, False, False, True, False, False, False, False, False, True, False, False, False, False, False, True, False, False, False, False, False, True, False, True, False, False, False, False, False, True, False, False, False, True, False, True, False, False, False, False, False, False, False, False, False, True, False, False, False, False, False, False, False, False, False, False, False, False, False, True, False, False, False, True, False, True, False, False, False, True, False, False, False, False, False, False, False, False, False, False, False, False, False, True, False, False, False, False, False, True, False, False, False, False, False, False, False, False, False, True, False, True, False, False, False, True, False, False, False, False, False, True, False, False, False, False, False, False, False, True, False, False, False, False, False, True, False, False, False, False, False, True, False, False, False, True, False, False, False, False, False, True, False, False, False, False, False, False, False, True, False, False, False, True, False, False, False, False, False, False, False, True, False, False, False, False, False, False, False, False, False, True, False, True, False, False, False, False, False, False, False, False, False, True, False, True, False, False, False, False, False, True, False, False, False, True, False, False, False, False, False, True, False, False, False, False, False, False, False, True, False, False, False, True, False, True, False, False, False, True, False, False, False, False, False, False, False, False, False, False, False, True, False, False, False, False, False, False, False, True, False, False, False, True, False, False, False, False, False, False, False, True, False, False, False, True, False, False, False, False, False, True, False, False, False, False, False, False, False, False, False, False, False, True, False, True, False, False, False, False, False, False, False, False, False, False, False, False, False, False, False, False, False, True, False, False, False, False, False, True, False, False, False, False, False, False, False, False, False, True, False, False, False, False, False, True, False, False, False, False, False, True, False, True, False, False, False, False, False, True, False, False, False, False, False, False, False, False, False, True, False, False, False, False, False, True, False, False, False, False, False, True, False, True, False, False, False, False, False, True, False, False, False, False, False, True, False, False, False, True, False, True, False, False, False, False, False, False, False, False, False, False, False, True, False, False, False, False, False, False, False, False, False, True, False, True, False, False, False, True, False, False, False, False, False, True, False, False, False, False, False, True, False, True, False, False, False, False, False, False, False, False, False, False, False, True, False, False, False, True, False, False, False, False, False, True, False, False, False, False, False, False, False, True, False, False, False, False, False, False, False, False, False, True, False, False, False, False, False, False, False, True, False, False, False, False, False, False, False, False, False, True, False, False, False, False, False, False, False, True, False, False, False, False, False, True, False, False, False, False, False, True, False, False, False, True, False, False, False, False, False, False, False, True, False, False, False, False, False, True, False, False, False, True, False, False, False, False, False, False, False, True, False, False, False, True, False, False, False, False, False, False, False, False, False, False, False, False, False, True, False, False, False, False, False, False, False, False, False, True, False, False, False, False, False, False, False, False, False, False, False, True, False, True, False, False, False, False, False, False, False, False, False, True, False, True, False, False, False, True, False, True, False, False, False, False, False, False, False, False, False, True, False, False, False, False, False, False, False, False, False, False, False, False, False, True, False, False, False, True, False, True, False, False, False, True, False, False, False, False, False, False, False, False, False, False, False, False, False, True, False, False, False, True, False, True, False, False, False, True, False, False, False, False, False, False, False, False, False, False, False, False, False, False, False, False, False, False, False, True, False, False, False, True, False, False, False, False, False, False, False, True, False, False, False, False, False, False, False, False, False, True, False, False, False, False, False, False, False, True, False, False, False, True, False, False, False, False, False, True, False, False, False, False, False, True, False, False, False, False, False, False, False, False, False, False, False, False, False, True, False, False, False, True, False, False, False, False, False, True, False, False, False, False, False, True, False, False, False, False, False, False, False, True, False, False, False, False, False, True, False, False]\n",
            "168\n"
          ]
        }
      ]
    },
    {
      "cell_type": "markdown",
      "source": [
        "# Generators and Iterators\n",
        "\n",
        "This are the tools in python to efficiently handle the datastream ans sequences.\n",
        "They allows processing one at a time. This is very usefull while dealing with big/huge dataseets.\n",
        "\n",
        "## iterator\n",
        "Iterator is an object that allows sequential access to the sequence(Dictionaries, strings) or a collection(List, tuples, sets)\n",
        "1. __iter__() Returns the iterator object itself.\n",
        "2.__next__() Returns the next item in the sequence or raise `stopItetation` exception\n",
        "\n",
        "## Generator\n",
        "A generator is a special type of iterator defined using a function with `yield` statement. Unlike function that returns single value at the end, Generator yields one value at a time, pause execution between values.\n",
        "\n",
        "Generators are very usefull while dealing with large amount of data."
      ],
      "metadata": {
        "id": "mU1QJOYi2rEI"
      }
    },
    {
      "cell_type": "code",
      "source": [
        "# Iterator\n",
        "\n",
        "list_normal = [1,231,31,41,4212]\n",
        "list_iterator = iter(list_normal)\n",
        "print(type(list_normal))\n",
        "print(type(list_iterator))\n",
        "\n",
        "print(next(list_iterator))\n",
        "print(next(list_iterator))\n",
        "\n",
        "# Below code raise an exception that TypeError:\n",
        "#'list' object is not an iterator\n",
        "#print(next(list_normal))\n",
        "\n",
        "# Generator\n",
        "\n",
        "# 1. Generator for infinite set of fibanocci\n",
        "def fibanocci():\n",
        "  a,b = 0,1\n",
        "  while True:\n",
        "    yield a\n",
        "    b,a = a+b,b\n",
        "\n",
        "fib = fibanocci()\n",
        "print(type(fib))\n",
        "print(next(fib))\n",
        "print(next(fib))\n",
        "print(next(fib))\n",
        "print(next(fib))\n",
        "\n",
        "for _ in range(10):\n",
        "  print(next(fib))\n",
        "\n",
        "# You can make a generator as list comprehension too.\n",
        "# Here you will use () instead of []\n",
        "\n",
        "list_normal = [x**2 for x in range(2,20)]\n",
        "print(f\"Type of list_normal {type(list_normal)} and the lis is {list_normal}\")\n",
        "\n",
        "list_gen = (x**2 for x in range(2,20))\n",
        "print(f\"Type of list_gen  {type(list_gen)} and next elemt is {next(list_gen)}\")\n",
        "\n",
        "# Chaining Generator: Using one generator as a input for other.\n",
        "def double_value(nums):\n",
        "  for n in nums:\n",
        "    yield n*n\n",
        "\n",
        "nums = range(11)\n",
        "print(nums)\n",
        "for x in double_value(nums):\n",
        "  print(x)\n",
        "\n",
        "# File Processing with Generators\n",
        "# def read_large_file(file_path):\n",
        "#     with open(file_path, 'r') as file:\n",
        "#         for line in file:\n",
        "#             yield line.strip()\n",
        "\n",
        "# for line in read_large_file('large_file.txt'):\n",
        "#     print(line)\n",
        "# Processes one line at a time, reducing memory usage.\n",
        "\n",
        ""
      ],
      "metadata": {
        "colab": {
          "base_uri": "https://localhost:8080/"
        },
        "id": "Z08czaWB6D9n",
        "outputId": "e3359af4-9666-4d56-c467-bb6e916497e5"
      },
      "execution_count": 73,
      "outputs": [
        {
          "output_type": "stream",
          "name": "stdout",
          "text": [
            "<class 'list'>\n",
            "<class 'list_iterator'>\n",
            "1\n",
            "231\n",
            "<class 'generator'>\n",
            "0\n",
            "1\n",
            "1\n",
            "2\n",
            "3\n",
            "5\n",
            "8\n",
            "13\n",
            "21\n",
            "34\n",
            "55\n",
            "89\n",
            "144\n",
            "233\n",
            "Type of list_normal <class 'list'> and the lis is [4, 9, 16, 25, 36, 49, 64, 81, 100, 121, 144, 169, 196, 225, 256, 289, 324, 361]\n",
            "Type of list_gen  <class 'generator'> and next elemt is 4\n",
            "range(0, 11)\n",
            "0\n",
            "1\n",
            "4\n",
            "9\n",
            "16\n",
            "25\n",
            "36\n",
            "49\n",
            "64\n",
            "81\n",
            "100\n"
          ]
        }
      ]
    }
  ]
}