{
  "nbformat": 4,
  "nbformat_minor": 0,
  "metadata": {
    "colab": {
      "provenance": [],
      "authorship_tag": "ABX9TyO0a3TR3B7bCnGNYIp3K4CL",
      "include_colab_link": true
    },
    "kernelspec": {
      "name": "python3",
      "display_name": "Python 3"
    },
    "language_info": {
      "name": "python"
    }
  },
  "cells": [
    {
      "cell_type": "markdown",
      "metadata": {
        "id": "view-in-github",
        "colab_type": "text"
      },
      "source": [
        "<a href=\"https://colab.research.google.com/github/lakshmikanthgr/Complete-DSA-Python/blob/main/01_Python_Basics_for_DSA.ipynb\" target=\"_parent\"><img src=\"https://colab.research.google.com/assets/colab-badge.svg\" alt=\"Open In Colab\"/></a>"
      ]
    },
    {
      "cell_type": "markdown",
      "source": [
        "# Python Basics for DSA"
      ],
      "metadata": {
        "id": "rDaMziKZ3LPD"
      }
    },
    {
      "cell_type": "code",
      "source": [
        "print(\"Hello!!, Welecome to Python Basics for DSA!\")"
      ],
      "metadata": {
        "id": "SyF-zsAA3PKo",
        "outputId": "c4f72b34-dfed-473d-8996-b414dfb58094",
        "colab": {
          "base_uri": "https://localhost:8080/"
        }
      },
      "execution_count": 1,
      "outputs": [
        {
          "output_type": "stream",
          "name": "stdout",
          "text": [
            "Hello!!, Welecome to Python Basics for DSA!\n"
          ]
        }
      ]
    }
  ]
}