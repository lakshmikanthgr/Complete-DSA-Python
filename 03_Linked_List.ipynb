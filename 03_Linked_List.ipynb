{
  "nbformat": 4,
  "nbformat_minor": 0,
  "metadata": {
    "colab": {
      "provenance": [],
      "authorship_tag": "ABX9TyPAM2lt9RlOv11kp8yVhRTu",
      "include_colab_link": true
    },
    "kernelspec": {
      "name": "python3",
      "display_name": "Python 3"
    },
    "language_info": {
      "name": "python"
    }
  },
  "cells": [
    {
      "cell_type": "markdown",
      "metadata": {
        "id": "view-in-github",
        "colab_type": "text"
      },
      "source": [
        "<a href=\"https://colab.research.google.com/github/lakshmikanthgr/Complete-DSA-Python/blob/main/03_Linked_List.ipynb\" target=\"_parent\"><img src=\"https://colab.research.google.com/assets/colab-badge.svg\" alt=\"Open In Colab\"/></a>"
      ]
    },
    {
      "cell_type": "code",
      "execution_count": null,
      "metadata": {
        "id": "n1CCluebuchL"
      },
      "outputs": [],
      "source": []
    },
    {
      "cell_type": "markdown",
      "source": [
        "# Linked Lists\n",
        "\n",
        "Linked lists a Linear type of Data Stucture where each item contains two parts.\n",
        "\n",
        "1. Data : The value stored in data.\n",
        "2. Pointer/Next : A reference to the next node in the sequence.\n",
        "\n",
        "unlike arrays linked lists doesnt store information in contigoues memory locations. This allows for dynamic memory allocation and efficient insertion and deletion.\n",
        "\n",
        "## Typs of Linked list\n",
        "  1. Single Linked List: Each node points to the next node.\n",
        "  2. Double Linked List: Each node contains pointers to both next and previous node.\n",
        "  3. Circular Linked List: The last node points to the first node and makes a circular structure.\n",
        "\n",
        "## Advantages of Linked list:\n",
        "  1. Dynamic size : Memory is created based on need.\n",
        "  2. Efficient insertion and deletion:\n",
        "  3. Flexibla data storage: Element can be stored in non-contigous memeroy.\n",
        "\n",
        "## Cons:\n",
        "  1. Need extra memory(for pointers.)\n",
        "  2. Sequential access: Random access is not possible. You need to traverse from start to access element.\n",
        "  3. Increased complexity.\n",
        "\n",
        "## Basic Operations;\n",
        "\n",
        "\n",
        "### Traversing a linked list."
      ],
      "metadata": {
        "id": "q0PjtgCXukl2"
      }
    }
  ]
}